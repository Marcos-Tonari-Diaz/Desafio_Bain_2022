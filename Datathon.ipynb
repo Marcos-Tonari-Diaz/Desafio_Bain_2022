{
  "nbformat": 4,
  "nbformat_minor": 0,
  "metadata": {
    "colab": {
      "name": "Datathon.ipynb",
      "provenance": [],
      "authorship_tag": "ABX9TyONIbC91/keF6GU7v/+Tb25",
      "include_colab_link": true
    },
    "kernelspec": {
      "name": "python3",
      "display_name": "Python 3"
    },
    "language_info": {
      "name": "python"
    }
  },
  "cells": [
    {
      "cell_type": "markdown",
      "metadata": {
        "id": "view-in-github",
        "colab_type": "text"
      },
      "source": [
        "<a href=\"https://colab.research.google.com/github/Marcos-Tonari-Diaz/Desafio_Bain_2022/blob/main/Datathon.ipynb\" target=\"_parent\"><img src=\"https://colab.research.google.com/assets/colab-badge.svg\" alt=\"Open In Colab\"/></a>"
      ]
    },
    {
      "cell_type": "markdown",
      "source": [
        "# Bain Stategic Challenge 2022\n",
        "### Team: \"Os Normalizados\"\n",
        "\n",
        "\n",
        "*   Guilerme Ramirez\n",
        "*   João Segato Kruse\n",
        "*   Marcos Gabriel Barboza Dure Diaz\n",
        "\n",
        "https://desafioestrategicobain.com/\n",
        "\n",
        "\n"
      ],
      "metadata": {
        "id": "TQEhL9YHNOYq"
      }
    },
    {
      "cell_type": "markdown",
      "source": [
        "# Data Loading"
      ],
      "metadata": {
        "id": "iniTbTJSO8Zd"
      }
    },
    {
      "cell_type": "code",
      "source": [
        "import pandas as pd"
      ],
      "metadata": {
        "id": "_yEeba6yO-Ia"
      },
      "execution_count": null,
      "outputs": []
    },
    {
      "cell_type": "code",
      "source": [
        "historical_database = pd.read_csv(\"historical-database.csv\", sep=';', parse_dates=['year'], dtype={'city_code':\"category\", 'product_type':\"category\", 'product':\"category\"})"
      ],
      "metadata": {
        "id": "tUSP1mBHQ-p0"
      },
      "execution_count": null,
      "outputs": []
    },
    {
      "cell_type": "code",
      "source": [
        "historical_database"
      ],
      "metadata": {
        "colab": {
          "base_uri": "https://localhost:8080/",
          "height": 424
        },
        "id": "M8pGUE6FRHzL",
        "outputId": "5b63ff9b-c7e7-4de9-9cbe-11af170712d1"
      },
      "execution_count": null,
      "outputs": [
        {
          "output_type": "execute_result",
          "data": {
            "text/plain": [
              "            year         city_code product_type    product destinated_area,\n",
              "0     1974-01-01  960b4f2c94a2fb2c    temporary     Others               0,\n",
              "1     1974-01-01  746cc42bfb8f6b62    temporary     Others               0,\n",
              "2     1974-01-01  6cce2bf873870afc    temporary     Others               0,\n",
              "3     1974-01-01  4de42e351006a2ae    temporary     Others               0,\n",
              "4     1974-01-01  5b6072f8f6d37acc    temporary     Others               0,\n",
              "...          ...               ...          ...        ...              ...\n",
              "73739 2013-01-01  74d75dde6dc4a5ec      pasture  Livestock      150866,5644\n",
              "73740 2014-01-01  74d75dde6dc4a5ec      pasture  Livestock       152446,396\n",
              "73741 2015-01-01  74d75dde6dc4a5ec      pasture  Livestock      154681,0205\n",
              "73742 2016-01-01  74d75dde6dc4a5ec      pasture  Livestock      164706,2778\n",
              "73743 2017-01-01  74d75dde6dc4a5ec      pasture  Livestock      165220,8728\n",
              "\n",
              "[73744 rows x 5 columns]"
            ],
            "text/html": [
              "\n",
              "  <div id=\"df-d539e98f-9143-4a7e-9f9f-b936db4a87bc\">\n",
              "    <div class=\"colab-df-container\">\n",
              "      <div>\n",
              "<style scoped>\n",
              "    .dataframe tbody tr th:only-of-type {\n",
              "        vertical-align: middle;\n",
              "    }\n",
              "\n",
              "    .dataframe tbody tr th {\n",
              "        vertical-align: top;\n",
              "    }\n",
              "\n",
              "    .dataframe thead th {\n",
              "        text-align: right;\n",
              "    }\n",
              "</style>\n",
              "<table border=\"1\" class=\"dataframe\">\n",
              "  <thead>\n",
              "    <tr style=\"text-align: right;\">\n",
              "      <th></th>\n",
              "      <th>year</th>\n",
              "      <th>city_code</th>\n",
              "      <th>product_type</th>\n",
              "      <th>product</th>\n",
              "      <th>destinated_area,</th>\n",
              "    </tr>\n",
              "  </thead>\n",
              "  <tbody>\n",
              "    <tr>\n",
              "      <th>0</th>\n",
              "      <td>1974-01-01</td>\n",
              "      <td>960b4f2c94a2fb2c</td>\n",
              "      <td>temporary</td>\n",
              "      <td>Others</td>\n",
              "      <td>0,</td>\n",
              "    </tr>\n",
              "    <tr>\n",
              "      <th>1</th>\n",
              "      <td>1974-01-01</td>\n",
              "      <td>746cc42bfb8f6b62</td>\n",
              "      <td>temporary</td>\n",
              "      <td>Others</td>\n",
              "      <td>0,</td>\n",
              "    </tr>\n",
              "    <tr>\n",
              "      <th>2</th>\n",
              "      <td>1974-01-01</td>\n",
              "      <td>6cce2bf873870afc</td>\n",
              "      <td>temporary</td>\n",
              "      <td>Others</td>\n",
              "      <td>0,</td>\n",
              "    </tr>\n",
              "    <tr>\n",
              "      <th>3</th>\n",
              "      <td>1974-01-01</td>\n",
              "      <td>4de42e351006a2ae</td>\n",
              "      <td>temporary</td>\n",
              "      <td>Others</td>\n",
              "      <td>0,</td>\n",
              "    </tr>\n",
              "    <tr>\n",
              "      <th>4</th>\n",
              "      <td>1974-01-01</td>\n",
              "      <td>5b6072f8f6d37acc</td>\n",
              "      <td>temporary</td>\n",
              "      <td>Others</td>\n",
              "      <td>0,</td>\n",
              "    </tr>\n",
              "    <tr>\n",
              "      <th>...</th>\n",
              "      <td>...</td>\n",
              "      <td>...</td>\n",
              "      <td>...</td>\n",
              "      <td>...</td>\n",
              "      <td>...</td>\n",
              "    </tr>\n",
              "    <tr>\n",
              "      <th>73739</th>\n",
              "      <td>2013-01-01</td>\n",
              "      <td>74d75dde6dc4a5ec</td>\n",
              "      <td>pasture</td>\n",
              "      <td>Livestock</td>\n",
              "      <td>150866,5644</td>\n",
              "    </tr>\n",
              "    <tr>\n",
              "      <th>73740</th>\n",
              "      <td>2014-01-01</td>\n",
              "      <td>74d75dde6dc4a5ec</td>\n",
              "      <td>pasture</td>\n",
              "      <td>Livestock</td>\n",
              "      <td>152446,396</td>\n",
              "    </tr>\n",
              "    <tr>\n",
              "      <th>73741</th>\n",
              "      <td>2015-01-01</td>\n",
              "      <td>74d75dde6dc4a5ec</td>\n",
              "      <td>pasture</td>\n",
              "      <td>Livestock</td>\n",
              "      <td>154681,0205</td>\n",
              "    </tr>\n",
              "    <tr>\n",
              "      <th>73742</th>\n",
              "      <td>2016-01-01</td>\n",
              "      <td>74d75dde6dc4a5ec</td>\n",
              "      <td>pasture</td>\n",
              "      <td>Livestock</td>\n",
              "      <td>164706,2778</td>\n",
              "    </tr>\n",
              "    <tr>\n",
              "      <th>73743</th>\n",
              "      <td>2017-01-01</td>\n",
              "      <td>74d75dde6dc4a5ec</td>\n",
              "      <td>pasture</td>\n",
              "      <td>Livestock</td>\n",
              "      <td>165220,8728</td>\n",
              "    </tr>\n",
              "  </tbody>\n",
              "</table>\n",
              "<p>73744 rows × 5 columns</p>\n",
              "</div>\n",
              "      <button class=\"colab-df-convert\" onclick=\"convertToInteractive('df-d539e98f-9143-4a7e-9f9f-b936db4a87bc')\"\n",
              "              title=\"Convert this dataframe to an interactive table.\"\n",
              "              style=\"display:none;\">\n",
              "        \n",
              "  <svg xmlns=\"http://www.w3.org/2000/svg\" height=\"24px\"viewBox=\"0 0 24 24\"\n",
              "       width=\"24px\">\n",
              "    <path d=\"M0 0h24v24H0V0z\" fill=\"none\"/>\n",
              "    <path d=\"M18.56 5.44l.94 2.06.94-2.06 2.06-.94-2.06-.94-.94-2.06-.94 2.06-2.06.94zm-11 1L8.5 8.5l.94-2.06 2.06-.94-2.06-.94L8.5 2.5l-.94 2.06-2.06.94zm10 10l.94 2.06.94-2.06 2.06-.94-2.06-.94-.94-2.06-.94 2.06-2.06.94z\"/><path d=\"M17.41 7.96l-1.37-1.37c-.4-.4-.92-.59-1.43-.59-.52 0-1.04.2-1.43.59L10.3 9.45l-7.72 7.72c-.78.78-.78 2.05 0 2.83L4 21.41c.39.39.9.59 1.41.59.51 0 1.02-.2 1.41-.59l7.78-7.78 2.81-2.81c.8-.78.8-2.07 0-2.86zM5.41 20L4 18.59l7.72-7.72 1.47 1.35L5.41 20z\"/>\n",
              "  </svg>\n",
              "      </button>\n",
              "      \n",
              "  <style>\n",
              "    .colab-df-container {\n",
              "      display:flex;\n",
              "      flex-wrap:wrap;\n",
              "      gap: 12px;\n",
              "    }\n",
              "\n",
              "    .colab-df-convert {\n",
              "      background-color: #E8F0FE;\n",
              "      border: none;\n",
              "      border-radius: 50%;\n",
              "      cursor: pointer;\n",
              "      display: none;\n",
              "      fill: #1967D2;\n",
              "      height: 32px;\n",
              "      padding: 0 0 0 0;\n",
              "      width: 32px;\n",
              "    }\n",
              "\n",
              "    .colab-df-convert:hover {\n",
              "      background-color: #E2EBFA;\n",
              "      box-shadow: 0px 1px 2px rgba(60, 64, 67, 0.3), 0px 1px 3px 1px rgba(60, 64, 67, 0.15);\n",
              "      fill: #174EA6;\n",
              "    }\n",
              "\n",
              "    [theme=dark] .colab-df-convert {\n",
              "      background-color: #3B4455;\n",
              "      fill: #D2E3FC;\n",
              "    }\n",
              "\n",
              "    [theme=dark] .colab-df-convert:hover {\n",
              "      background-color: #434B5C;\n",
              "      box-shadow: 0px 1px 3px 1px rgba(0, 0, 0, 0.15);\n",
              "      filter: drop-shadow(0px 1px 2px rgba(0, 0, 0, 0.3));\n",
              "      fill: #FFFFFF;\n",
              "    }\n",
              "  </style>\n",
              "\n",
              "      <script>\n",
              "        const buttonEl =\n",
              "          document.querySelector('#df-d539e98f-9143-4a7e-9f9f-b936db4a87bc button.colab-df-convert');\n",
              "        buttonEl.style.display =\n",
              "          google.colab.kernel.accessAllowed ? 'block' : 'none';\n",
              "\n",
              "        async function convertToInteractive(key) {\n",
              "          const element = document.querySelector('#df-d539e98f-9143-4a7e-9f9f-b936db4a87bc');\n",
              "          const dataTable =\n",
              "            await google.colab.kernel.invokeFunction('convertToInteractive',\n",
              "                                                     [key], {});\n",
              "          if (!dataTable) return;\n",
              "\n",
              "          const docLinkHtml = 'Like what you see? Visit the ' +\n",
              "            '<a target=\"_blank\" href=https://colab.research.google.com/notebooks/data_table.ipynb>data table notebook</a>'\n",
              "            + ' to learn more about interactive tables.';\n",
              "          element.innerHTML = '';\n",
              "          dataTable['output_type'] = 'display_data';\n",
              "          await google.colab.output.renderOutput(dataTable, element);\n",
              "          const docLink = document.createElement('div');\n",
              "          docLink.innerHTML = docLinkHtml;\n",
              "          element.appendChild(docLink);\n",
              "        }\n",
              "      </script>\n",
              "    </div>\n",
              "  </div>\n",
              "  "
            ]
          },
          "metadata": {},
          "execution_count": 23
        }
      ]
    },
    {
      "cell_type": "code",
      "source": [
        "historical_database['year'] = pd.DatetimeIndex(historical_database['year']).year"
      ],
      "metadata": {
        "id": "zx8AHNLSGYy2"
      },
      "execution_count": null,
      "outputs": []
    },
    {
      "cell_type": "code",
      "source": [
        "historical_database = historical_database.rename(columns = {'destinated_area,':'destinated_area'})"
      ],
      "metadata": {
        "id": "pFJoe2cuJrpi"
      },
      "execution_count": null,
      "outputs": []
    },
    {
      "cell_type": "code",
      "source": [
        "str_list = ['0,', '2,', '3,4', ',']\n",
        "#add_zero_after_comma = lambda num_str : num_str+'0' if num_str[-1] == ',' else num_str\n",
        "add_zero_after_comma = lambda num_str : num_str+'0' if num_str[-1] == ',' and len(num_str)!=1 else num_str\n",
        "str_list = list(map(add_zero_after_comma, str_list))\n",
        "str_list"
      ],
      "metadata": {
        "colab": {
          "base_uri": "https://localhost:8080/"
        },
        "id": "TMaQGLj6NXLq",
        "outputId": "f88daaa7-2952-4997-81e1-9c1a7281176b"
      },
      "execution_count": null,
      "outputs": [
        {
          "output_type": "execute_result",
          "data": {
            "text/plain": [
              "['0,0', '2,0', '3,4', ',']"
            ]
          },
          "metadata": {},
          "execution_count": 26
        }
      ]
    },
    {
      "cell_type": "code",
      "source": [
        "historical_database['destinated_area'] = historical_database['destinated_area'].apply(add_zero_after_comma)\n",
        "historical_database['destinated_area'] = pd.to_numeric(historical_database['destinated_area'].str.replace(',', '.'), errors='coerce')"
      ],
      "metadata": {
        "id": "Y97024YjO2-g"
      },
      "execution_count": null,
      "outputs": []
    },
    {
      "cell_type": "code",
      "source": [
        "historical_database"
      ],
      "metadata": {
        "colab": {
          "base_uri": "https://localhost:8080/",
          "height": 424
        },
        "id": "jix4STz02dVo",
        "outputId": "4c141158-3baa-4e9f-f206-e1b94293579c"
      },
      "execution_count": null,
      "outputs": [
        {
          "output_type": "execute_result",
          "data": {
            "text/plain": [
              "       year         city_code product_type    product  destinated_area\n",
              "0      1974  960b4f2c94a2fb2c    temporary     Others           0.0000\n",
              "1      1974  746cc42bfb8f6b62    temporary     Others           0.0000\n",
              "2      1974  6cce2bf873870afc    temporary     Others           0.0000\n",
              "3      1974  4de42e351006a2ae    temporary     Others           0.0000\n",
              "4      1974  5b6072f8f6d37acc    temporary     Others           0.0000\n",
              "...     ...               ...          ...        ...              ...\n",
              "73739  2013  74d75dde6dc4a5ec      pasture  Livestock      150866.5644\n",
              "73740  2014  74d75dde6dc4a5ec      pasture  Livestock      152446.3960\n",
              "73741  2015  74d75dde6dc4a5ec      pasture  Livestock      154681.0205\n",
              "73742  2016  74d75dde6dc4a5ec      pasture  Livestock      164706.2778\n",
              "73743  2017  74d75dde6dc4a5ec      pasture  Livestock      165220.8728\n",
              "\n",
              "[73744 rows x 5 columns]"
            ],
            "text/html": [
              "\n",
              "  <div id=\"df-fff94a12-634d-4de1-8678-22efda557feb\">\n",
              "    <div class=\"colab-df-container\">\n",
              "      <div>\n",
              "<style scoped>\n",
              "    .dataframe tbody tr th:only-of-type {\n",
              "        vertical-align: middle;\n",
              "    }\n",
              "\n",
              "    .dataframe tbody tr th {\n",
              "        vertical-align: top;\n",
              "    }\n",
              "\n",
              "    .dataframe thead th {\n",
              "        text-align: right;\n",
              "    }\n",
              "</style>\n",
              "<table border=\"1\" class=\"dataframe\">\n",
              "  <thead>\n",
              "    <tr style=\"text-align: right;\">\n",
              "      <th></th>\n",
              "      <th>year</th>\n",
              "      <th>city_code</th>\n",
              "      <th>product_type</th>\n",
              "      <th>product</th>\n",
              "      <th>destinated_area</th>\n",
              "    </tr>\n",
              "  </thead>\n",
              "  <tbody>\n",
              "    <tr>\n",
              "      <th>0</th>\n",
              "      <td>1974</td>\n",
              "      <td>960b4f2c94a2fb2c</td>\n",
              "      <td>temporary</td>\n",
              "      <td>Others</td>\n",
              "      <td>0.0000</td>\n",
              "    </tr>\n",
              "    <tr>\n",
              "      <th>1</th>\n",
              "      <td>1974</td>\n",
              "      <td>746cc42bfb8f6b62</td>\n",
              "      <td>temporary</td>\n",
              "      <td>Others</td>\n",
              "      <td>0.0000</td>\n",
              "    </tr>\n",
              "    <tr>\n",
              "      <th>2</th>\n",
              "      <td>1974</td>\n",
              "      <td>6cce2bf873870afc</td>\n",
              "      <td>temporary</td>\n",
              "      <td>Others</td>\n",
              "      <td>0.0000</td>\n",
              "    </tr>\n",
              "    <tr>\n",
              "      <th>3</th>\n",
              "      <td>1974</td>\n",
              "      <td>4de42e351006a2ae</td>\n",
              "      <td>temporary</td>\n",
              "      <td>Others</td>\n",
              "      <td>0.0000</td>\n",
              "    </tr>\n",
              "    <tr>\n",
              "      <th>4</th>\n",
              "      <td>1974</td>\n",
              "      <td>5b6072f8f6d37acc</td>\n",
              "      <td>temporary</td>\n",
              "      <td>Others</td>\n",
              "      <td>0.0000</td>\n",
              "    </tr>\n",
              "    <tr>\n",
              "      <th>...</th>\n",
              "      <td>...</td>\n",
              "      <td>...</td>\n",
              "      <td>...</td>\n",
              "      <td>...</td>\n",
              "      <td>...</td>\n",
              "    </tr>\n",
              "    <tr>\n",
              "      <th>73739</th>\n",
              "      <td>2013</td>\n",
              "      <td>74d75dde6dc4a5ec</td>\n",
              "      <td>pasture</td>\n",
              "      <td>Livestock</td>\n",
              "      <td>150866.5644</td>\n",
              "    </tr>\n",
              "    <tr>\n",
              "      <th>73740</th>\n",
              "      <td>2014</td>\n",
              "      <td>74d75dde6dc4a5ec</td>\n",
              "      <td>pasture</td>\n",
              "      <td>Livestock</td>\n",
              "      <td>152446.3960</td>\n",
              "    </tr>\n",
              "    <tr>\n",
              "      <th>73741</th>\n",
              "      <td>2015</td>\n",
              "      <td>74d75dde6dc4a5ec</td>\n",
              "      <td>pasture</td>\n",
              "      <td>Livestock</td>\n",
              "      <td>154681.0205</td>\n",
              "    </tr>\n",
              "    <tr>\n",
              "      <th>73742</th>\n",
              "      <td>2016</td>\n",
              "      <td>74d75dde6dc4a5ec</td>\n",
              "      <td>pasture</td>\n",
              "      <td>Livestock</td>\n",
              "      <td>164706.2778</td>\n",
              "    </tr>\n",
              "    <tr>\n",
              "      <th>73743</th>\n",
              "      <td>2017</td>\n",
              "      <td>74d75dde6dc4a5ec</td>\n",
              "      <td>pasture</td>\n",
              "      <td>Livestock</td>\n",
              "      <td>165220.8728</td>\n",
              "    </tr>\n",
              "  </tbody>\n",
              "</table>\n",
              "<p>73744 rows × 5 columns</p>\n",
              "</div>\n",
              "      <button class=\"colab-df-convert\" onclick=\"convertToInteractive('df-fff94a12-634d-4de1-8678-22efda557feb')\"\n",
              "              title=\"Convert this dataframe to an interactive table.\"\n",
              "              style=\"display:none;\">\n",
              "        \n",
              "  <svg xmlns=\"http://www.w3.org/2000/svg\" height=\"24px\"viewBox=\"0 0 24 24\"\n",
              "       width=\"24px\">\n",
              "    <path d=\"M0 0h24v24H0V0z\" fill=\"none\"/>\n",
              "    <path d=\"M18.56 5.44l.94 2.06.94-2.06 2.06-.94-2.06-.94-.94-2.06-.94 2.06-2.06.94zm-11 1L8.5 8.5l.94-2.06 2.06-.94-2.06-.94L8.5 2.5l-.94 2.06-2.06.94zm10 10l.94 2.06.94-2.06 2.06-.94-2.06-.94-.94-2.06-.94 2.06-2.06.94z\"/><path d=\"M17.41 7.96l-1.37-1.37c-.4-.4-.92-.59-1.43-.59-.52 0-1.04.2-1.43.59L10.3 9.45l-7.72 7.72c-.78.78-.78 2.05 0 2.83L4 21.41c.39.39.9.59 1.41.59.51 0 1.02-.2 1.41-.59l7.78-7.78 2.81-2.81c.8-.78.8-2.07 0-2.86zM5.41 20L4 18.59l7.72-7.72 1.47 1.35L5.41 20z\"/>\n",
              "  </svg>\n",
              "      </button>\n",
              "      \n",
              "  <style>\n",
              "    .colab-df-container {\n",
              "      display:flex;\n",
              "      flex-wrap:wrap;\n",
              "      gap: 12px;\n",
              "    }\n",
              "\n",
              "    .colab-df-convert {\n",
              "      background-color: #E8F0FE;\n",
              "      border: none;\n",
              "      border-radius: 50%;\n",
              "      cursor: pointer;\n",
              "      display: none;\n",
              "      fill: #1967D2;\n",
              "      height: 32px;\n",
              "      padding: 0 0 0 0;\n",
              "      width: 32px;\n",
              "    }\n",
              "\n",
              "    .colab-df-convert:hover {\n",
              "      background-color: #E2EBFA;\n",
              "      box-shadow: 0px 1px 2px rgba(60, 64, 67, 0.3), 0px 1px 3px 1px rgba(60, 64, 67, 0.15);\n",
              "      fill: #174EA6;\n",
              "    }\n",
              "\n",
              "    [theme=dark] .colab-df-convert {\n",
              "      background-color: #3B4455;\n",
              "      fill: #D2E3FC;\n",
              "    }\n",
              "\n",
              "    [theme=dark] .colab-df-convert:hover {\n",
              "      background-color: #434B5C;\n",
              "      box-shadow: 0px 1px 3px 1px rgba(0, 0, 0, 0.15);\n",
              "      filter: drop-shadow(0px 1px 2px rgba(0, 0, 0, 0.3));\n",
              "      fill: #FFFFFF;\n",
              "    }\n",
              "  </style>\n",
              "\n",
              "      <script>\n",
              "        const buttonEl =\n",
              "          document.querySelector('#df-fff94a12-634d-4de1-8678-22efda557feb button.colab-df-convert');\n",
              "        buttonEl.style.display =\n",
              "          google.colab.kernel.accessAllowed ? 'block' : 'none';\n",
              "\n",
              "        async function convertToInteractive(key) {\n",
              "          const element = document.querySelector('#df-fff94a12-634d-4de1-8678-22efda557feb');\n",
              "          const dataTable =\n",
              "            await google.colab.kernel.invokeFunction('convertToInteractive',\n",
              "                                                     [key], {});\n",
              "          if (!dataTable) return;\n",
              "\n",
              "          const docLinkHtml = 'Like what you see? Visit the ' +\n",
              "            '<a target=\"_blank\" href=https://colab.research.google.com/notebooks/data_table.ipynb>data table notebook</a>'\n",
              "            + ' to learn more about interactive tables.';\n",
              "          element.innerHTML = '';\n",
              "          dataTable['output_type'] = 'display_data';\n",
              "          await google.colab.output.renderOutput(dataTable, element);\n",
              "          const docLink = document.createElement('div');\n",
              "          docLink.innerHTML = docLinkHtml;\n",
              "          element.appendChild(docLink);\n",
              "        }\n",
              "      </script>\n",
              "    </div>\n",
              "  </div>\n",
              "  "
            ]
          },
          "metadata": {},
          "execution_count": 28
        }
      ]
    },
    {
      "cell_type": "code",
      "source": [
        "historical_database.info()"
      ],
      "metadata": {
        "colab": {
          "base_uri": "https://localhost:8080/"
        },
        "id": "-MpEpcsn8bRa",
        "outputId": "1777b3a4-19e2-4f97-9ddc-ce34b617e668"
      },
      "execution_count": null,
      "outputs": [
        {
          "output_type": "stream",
          "name": "stdout",
          "text": [
            "<class 'pandas.core.frame.DataFrame'>\n",
            "RangeIndex: 73744 entries, 0 to 73743\n",
            "Data columns (total 5 columns):\n",
            " #   Column           Non-Null Count  Dtype   \n",
            "---  ------           --------------  -----   \n",
            " 0   year             73744 non-null  int64   \n",
            " 1   city_code        73744 non-null  category\n",
            " 2   product_type     73744 non-null  category\n",
            " 3   product          73744 non-null  category\n",
            " 4   destinated_area  34709 non-null  float64 \n",
            "dtypes: category(3), float64(1), int64(1)\n",
            "memory usage: 1.4 MB\n"
          ]
        }
      ]
    },
    {
      "cell_type": "markdown",
      "source": [
        "# Data Analysis"
      ],
      "metadata": {
        "id": "JJ6HFPDyM6US"
      }
    },
    {
      "cell_type": "markdown",
      "source": [
        "### Dataset Questions\n",
        "\n",
        "\n",
        "1.   Does the area grow with time? \n",
        "2.   How city location affects area?\n",
        "3.   How Product type affects area?"
      ],
      "metadata": {
        "id": "X5oYKVNAP2sE"
      }
    },
    {
      "cell_type": "code",
      "source": [
        "import numpy as np\n",
        "import seaborn as sns\n",
        "import matplotlib.pyplot as plt"
      ],
      "metadata": {
        "id": "R6EnafsvOMa3"
      },
      "execution_count": null,
      "outputs": []
    },
    {
      "cell_type": "code",
      "source": [
        "historical_database.describe(include=\"all\")"
      ],
      "metadata": {
        "colab": {
          "base_uri": "https://localhost:8080/",
          "height": 394
        },
        "id": "KbBC_7U0RTMo",
        "outputId": "27900beb-f515-4f8c-aa50-b075ec3096f1"
      },
      "execution_count": null,
      "outputs": [
        {
          "output_type": "execute_result",
          "data": {
            "text/plain": [
              "                year         city_code product_type product  destinated_area\n",
              "count   73744.000000             73744        73744   73744     3.470900e+04\n",
              "unique           NaN               144            3      11              NaN\n",
              "top              NaN  0307883b5d063703    temporary  Others              NaN\n",
              "freq             NaN               517        43824   12584              NaN\n",
              "mean     1995.854415               NaN          NaN     NaN     1.443392e+04\n",
              "std        12.590770               NaN          NaN     NaN     6.221689e+04\n",
              "min      1974.000000               NaN          NaN     NaN     0.000000e+00\n",
              "25%      1985.000000               NaN          NaN     NaN     2.800000e+01\n",
              "50%      1996.000000               NaN          NaN     NaN     3.000000e+02\n",
              "75%      2007.000000               NaN          NaN     NaN     2.011000e+03\n",
              "max      2017.000000               NaN          NaN     NaN     1.626071e+06"
            ],
            "text/html": [
              "\n",
              "  <div id=\"df-0bd1f9d4-0c10-483e-842b-2a3ee998b7d7\">\n",
              "    <div class=\"colab-df-container\">\n",
              "      <div>\n",
              "<style scoped>\n",
              "    .dataframe tbody tr th:only-of-type {\n",
              "        vertical-align: middle;\n",
              "    }\n",
              "\n",
              "    .dataframe tbody tr th {\n",
              "        vertical-align: top;\n",
              "    }\n",
              "\n",
              "    .dataframe thead th {\n",
              "        text-align: right;\n",
              "    }\n",
              "</style>\n",
              "<table border=\"1\" class=\"dataframe\">\n",
              "  <thead>\n",
              "    <tr style=\"text-align: right;\">\n",
              "      <th></th>\n",
              "      <th>year</th>\n",
              "      <th>city_code</th>\n",
              "      <th>product_type</th>\n",
              "      <th>product</th>\n",
              "      <th>destinated_area</th>\n",
              "    </tr>\n",
              "  </thead>\n",
              "  <tbody>\n",
              "    <tr>\n",
              "      <th>count</th>\n",
              "      <td>73744.000000</td>\n",
              "      <td>73744</td>\n",
              "      <td>73744</td>\n",
              "      <td>73744</td>\n",
              "      <td>3.470900e+04</td>\n",
              "    </tr>\n",
              "    <tr>\n",
              "      <th>unique</th>\n",
              "      <td>NaN</td>\n",
              "      <td>144</td>\n",
              "      <td>3</td>\n",
              "      <td>11</td>\n",
              "      <td>NaN</td>\n",
              "    </tr>\n",
              "    <tr>\n",
              "      <th>top</th>\n",
              "      <td>NaN</td>\n",
              "      <td>0307883b5d063703</td>\n",
              "      <td>temporary</td>\n",
              "      <td>Others</td>\n",
              "      <td>NaN</td>\n",
              "    </tr>\n",
              "    <tr>\n",
              "      <th>freq</th>\n",
              "      <td>NaN</td>\n",
              "      <td>517</td>\n",
              "      <td>43824</td>\n",
              "      <td>12584</td>\n",
              "      <td>NaN</td>\n",
              "    </tr>\n",
              "    <tr>\n",
              "      <th>mean</th>\n",
              "      <td>1995.854415</td>\n",
              "      <td>NaN</td>\n",
              "      <td>NaN</td>\n",
              "      <td>NaN</td>\n",
              "      <td>1.443392e+04</td>\n",
              "    </tr>\n",
              "    <tr>\n",
              "      <th>std</th>\n",
              "      <td>12.590770</td>\n",
              "      <td>NaN</td>\n",
              "      <td>NaN</td>\n",
              "      <td>NaN</td>\n",
              "      <td>6.221689e+04</td>\n",
              "    </tr>\n",
              "    <tr>\n",
              "      <th>min</th>\n",
              "      <td>1974.000000</td>\n",
              "      <td>NaN</td>\n",
              "      <td>NaN</td>\n",
              "      <td>NaN</td>\n",
              "      <td>0.000000e+00</td>\n",
              "    </tr>\n",
              "    <tr>\n",
              "      <th>25%</th>\n",
              "      <td>1985.000000</td>\n",
              "      <td>NaN</td>\n",
              "      <td>NaN</td>\n",
              "      <td>NaN</td>\n",
              "      <td>2.800000e+01</td>\n",
              "    </tr>\n",
              "    <tr>\n",
              "      <th>50%</th>\n",
              "      <td>1996.000000</td>\n",
              "      <td>NaN</td>\n",
              "      <td>NaN</td>\n",
              "      <td>NaN</td>\n",
              "      <td>3.000000e+02</td>\n",
              "    </tr>\n",
              "    <tr>\n",
              "      <th>75%</th>\n",
              "      <td>2007.000000</td>\n",
              "      <td>NaN</td>\n",
              "      <td>NaN</td>\n",
              "      <td>NaN</td>\n",
              "      <td>2.011000e+03</td>\n",
              "    </tr>\n",
              "    <tr>\n",
              "      <th>max</th>\n",
              "      <td>2017.000000</td>\n",
              "      <td>NaN</td>\n",
              "      <td>NaN</td>\n",
              "      <td>NaN</td>\n",
              "      <td>1.626071e+06</td>\n",
              "    </tr>\n",
              "  </tbody>\n",
              "</table>\n",
              "</div>\n",
              "      <button class=\"colab-df-convert\" onclick=\"convertToInteractive('df-0bd1f9d4-0c10-483e-842b-2a3ee998b7d7')\"\n",
              "              title=\"Convert this dataframe to an interactive table.\"\n",
              "              style=\"display:none;\">\n",
              "        \n",
              "  <svg xmlns=\"http://www.w3.org/2000/svg\" height=\"24px\"viewBox=\"0 0 24 24\"\n",
              "       width=\"24px\">\n",
              "    <path d=\"M0 0h24v24H0V0z\" fill=\"none\"/>\n",
              "    <path d=\"M18.56 5.44l.94 2.06.94-2.06 2.06-.94-2.06-.94-.94-2.06-.94 2.06-2.06.94zm-11 1L8.5 8.5l.94-2.06 2.06-.94-2.06-.94L8.5 2.5l-.94 2.06-2.06.94zm10 10l.94 2.06.94-2.06 2.06-.94-2.06-.94-.94-2.06-.94 2.06-2.06.94z\"/><path d=\"M17.41 7.96l-1.37-1.37c-.4-.4-.92-.59-1.43-.59-.52 0-1.04.2-1.43.59L10.3 9.45l-7.72 7.72c-.78.78-.78 2.05 0 2.83L4 21.41c.39.39.9.59 1.41.59.51 0 1.02-.2 1.41-.59l7.78-7.78 2.81-2.81c.8-.78.8-2.07 0-2.86zM5.41 20L4 18.59l7.72-7.72 1.47 1.35L5.41 20z\"/>\n",
              "  </svg>\n",
              "      </button>\n",
              "      \n",
              "  <style>\n",
              "    .colab-df-container {\n",
              "      display:flex;\n",
              "      flex-wrap:wrap;\n",
              "      gap: 12px;\n",
              "    }\n",
              "\n",
              "    .colab-df-convert {\n",
              "      background-color: #E8F0FE;\n",
              "      border: none;\n",
              "      border-radius: 50%;\n",
              "      cursor: pointer;\n",
              "      display: none;\n",
              "      fill: #1967D2;\n",
              "      height: 32px;\n",
              "      padding: 0 0 0 0;\n",
              "      width: 32px;\n",
              "    }\n",
              "\n",
              "    .colab-df-convert:hover {\n",
              "      background-color: #E2EBFA;\n",
              "      box-shadow: 0px 1px 2px rgba(60, 64, 67, 0.3), 0px 1px 3px 1px rgba(60, 64, 67, 0.15);\n",
              "      fill: #174EA6;\n",
              "    }\n",
              "\n",
              "    [theme=dark] .colab-df-convert {\n",
              "      background-color: #3B4455;\n",
              "      fill: #D2E3FC;\n",
              "    }\n",
              "\n",
              "    [theme=dark] .colab-df-convert:hover {\n",
              "      background-color: #434B5C;\n",
              "      box-shadow: 0px 1px 3px 1px rgba(0, 0, 0, 0.15);\n",
              "      filter: drop-shadow(0px 1px 2px rgba(0, 0, 0, 0.3));\n",
              "      fill: #FFFFFF;\n",
              "    }\n",
              "  </style>\n",
              "\n",
              "      <script>\n",
              "        const buttonEl =\n",
              "          document.querySelector('#df-0bd1f9d4-0c10-483e-842b-2a3ee998b7d7 button.colab-df-convert');\n",
              "        buttonEl.style.display =\n",
              "          google.colab.kernel.accessAllowed ? 'block' : 'none';\n",
              "\n",
              "        async function convertToInteractive(key) {\n",
              "          const element = document.querySelector('#df-0bd1f9d4-0c10-483e-842b-2a3ee998b7d7');\n",
              "          const dataTable =\n",
              "            await google.colab.kernel.invokeFunction('convertToInteractive',\n",
              "                                                     [key], {});\n",
              "          if (!dataTable) return;\n",
              "\n",
              "          const docLinkHtml = 'Like what you see? Visit the ' +\n",
              "            '<a target=\"_blank\" href=https://colab.research.google.com/notebooks/data_table.ipynb>data table notebook</a>'\n",
              "            + ' to learn more about interactive tables.';\n",
              "          element.innerHTML = '';\n",
              "          dataTable['output_type'] = 'display_data';\n",
              "          await google.colab.output.renderOutput(dataTable, element);\n",
              "          const docLink = document.createElement('div');\n",
              "          docLink.innerHTML = docLinkHtml;\n",
              "          element.appendChild(docLink);\n",
              "        }\n",
              "      </script>\n",
              "    </div>\n",
              "  </div>\n",
              "  "
            ]
          },
          "metadata": {},
          "execution_count": 31
        }
      ]
    },
    {
      "cell_type": "code",
      "source": [
        "#check for duplicate rows\n",
        "np.count_nonzero(historical_database.duplicated())"
      ],
      "metadata": {
        "colab": {
          "base_uri": "https://localhost:8080/"
        },
        "id": "JziMQtQTLQnz",
        "outputId": "b466158e-5af1-4937-a1d4-d67aeaebccad"
      },
      "execution_count": null,
      "outputs": [
        {
          "output_type": "execute_result",
          "data": {
            "text/plain": [
              "0"
            ]
          },
          "metadata": {},
          "execution_count": 32
        }
      ]
    },
    {
      "cell_type": "markdown",
      "source": [
        "### Q1: Does the area grow with time?"
      ],
      "metadata": {
        "id": "7MQ5Cz8dQNQj"
      }
    },
    {
      "cell_type": "code",
      "source": [
        "sns.heatmap(historical_database.corr())"
      ],
      "metadata": {
        "colab": {
          "base_uri": "https://localhost:8080/",
          "height": 287
        },
        "id": "--_I4uTtMmBs",
        "outputId": "8cef09ca-0a94-4785-aa4a-d27a175579d1"
      },
      "execution_count": null,
      "outputs": [
        {
          "output_type": "execute_result",
          "data": {
            "text/plain": [
              "<matplotlib.axes._subplots.AxesSubplot at 0x7f8b62e27f90>"
            ]
          },
          "metadata": {},
          "execution_count": 33
        },
        {
          "output_type": "display_data",
          "data": {
            "text/plain": [
              "<Figure size 432x288 with 2 Axes>"
            ],
            "image/png": "[encoded data removed]"
          },
          "metadata": {
            "needs_background": "light"
          }
        }
      ]
    },
    {
      "cell_type": "code",
      "source": [
        "historical_database.corr()"
      ],
      "metadata": {
        "colab": {
          "base_uri": "https://localhost:8080/",
          "height": 112
        },
        "id": "mcf-9q02OZ98",
        "outputId": "c85f8950-6098-4e28-855d-67c0fb7ae51e"
      },
      "execution_count": null,
      "outputs": [
        {
          "output_type": "execute_result",
          "data": {
            "text/plain": [
              "                     year  destinated_area\n",
              "year             1.000000         0.087694\n",
              "destinated_area  0.087694         1.000000"
            ],
            "text/html": [
              "\n",
              "  <div id=\"df-fc6c5136-6512-49f4-93ef-ac4f5cd66bda\">\n",
              "    <div class=\"colab-df-container\">\n",
              "      <div>\n",
              "<style scoped>\n",
              "    .dataframe tbody tr th:only-of-type {\n",
              "        vertical-align: middle;\n",
              "    }\n",
              "\n",
              "    .dataframe tbody tr th {\n",
              "        vertical-align: top;\n",
              "    }\n",
              "\n",
              "    .dataframe thead th {\n",
              "        text-align: right;\n",
              "    }\n",
              "</style>\n",
              "<table border=\"1\" class=\"dataframe\">\n",
              "  <thead>\n",
              "    <tr style=\"text-align: right;\">\n",
              "      <th></th>\n",
              "      <th>year</th>\n",
              "      <th>destinated_area</th>\n",
              "    </tr>\n",
              "  </thead>\n",
              "  <tbody>\n",
              "    <tr>\n",
              "      <th>year</th>\n",
              "      <td>1.000000</td>\n",
              "      <td>0.087694</td>\n",
              "    </tr>\n",
              "    <tr>\n",
              "      <th>destinated_area</th>\n",
              "      <td>0.087694</td>\n",
              "      <td>1.000000</td>\n",
              "    </tr>\n",
              "  </tbody>\n",
              "</table>\n",
              "</div>\n",
              "      <button class=\"colab-df-convert\" onclick=\"convertToInteractive('df-fc6c5136-6512-49f4-93ef-ac4f5cd66bda')\"\n",
              "              title=\"Convert this dataframe to an interactive table.\"\n",
              "              style=\"display:none;\">\n",
              "        \n",
              "  <svg xmlns=\"http://www.w3.org/2000/svg\" height=\"24px\"viewBox=\"0 0 24 24\"\n",
              "       width=\"24px\">\n",
              "    <path d=\"M0 0h24v24H0V0z\" fill=\"none\"/>\n",
              "    <path d=\"M18.56 5.44l.94 2.06.94-2.06 2.06-.94-2.06-.94-.94-2.06-.94 2.06-2.06.94zm-11 1L8.5 8.5l.94-2.06 2.06-.94-2.06-.94L8.5 2.5l-.94 2.06-2.06.94zm10 10l.94 2.06.94-2.06 2.06-.94-2.06-.94-.94-2.06-.94 2.06-2.06.94z\"/><path d=\"M17.41 7.96l-1.37-1.37c-.4-.4-.92-.59-1.43-.59-.52 0-1.04.2-1.43.59L10.3 9.45l-7.72 7.72c-.78.78-.78 2.05 0 2.83L4 21.41c.39.39.9.59 1.41.59.51 0 1.02-.2 1.41-.59l7.78-7.78 2.81-2.81c.8-.78.8-2.07 0-2.86zM5.41 20L4 18.59l7.72-7.72 1.47 1.35L5.41 20z\"/>\n",
              "  </svg>\n",
              "      </button>\n",
              "      \n",
              "  <style>\n",
              "    .colab-df-container {\n",
              "      display:flex;\n",
              "      flex-wrap:wrap;\n",
              "      gap: 12px;\n",
              "    }\n",
              "\n",
              "    .colab-df-convert {\n",
              "      background-color: #E8F0FE;\n",
              "      border: none;\n",
              "      border-radius: 50%;\n",
              "      cursor: pointer;\n",
              "      display: none;\n",
              "      fill: #1967D2;\n",
              "      height: 32px;\n",
              "      padding: 0 0 0 0;\n",
              "      width: 32px;\n",
              "    }\n",
              "\n",
              "    .colab-df-convert:hover {\n",
              "      background-color: #E2EBFA;\n",
              "      box-shadow: 0px 1px 2px rgba(60, 64, 67, 0.3), 0px 1px 3px 1px rgba(60, 64, 67, 0.15);\n",
              "      fill: #174EA6;\n",
              "    }\n",
              "\n",
              "    [theme=dark] .colab-df-convert {\n",
              "      background-color: #3B4455;\n",
              "      fill: #D2E3FC;\n",
              "    }\n",
              "\n",
              "    [theme=dark] .colab-df-convert:hover {\n",
              "      background-color: #434B5C;\n",
              "      box-shadow: 0px 1px 3px 1px rgba(0, 0, 0, 0.15);\n",
              "      filter: drop-shadow(0px 1px 2px rgba(0, 0, 0, 0.3));\n",
              "      fill: #FFFFFF;\n",
              "    }\n",
              "  </style>\n",
              "\n",
              "      <script>\n",
              "        const buttonEl =\n",
              "          document.querySelector('#df-fc6c5136-6512-49f4-93ef-ac4f5cd66bda button.colab-df-convert');\n",
              "        buttonEl.style.display =\n",
              "          google.colab.kernel.accessAllowed ? 'block' : 'none';\n",
              "\n",
              "        async function convertToInteractive(key) {\n",
              "          const element = document.querySelector('#df-fc6c5136-6512-49f4-93ef-ac4f5cd66bda');\n",
              "          const dataTable =\n",
              "            await google.colab.kernel.invokeFunction('convertToInteractive',\n",
              "                                                     [key], {});\n",
              "          if (!dataTable) return;\n",
              "\n",
              "          const docLinkHtml = 'Like what you see? Visit the ' +\n",
              "            '<a target=\"_blank\" href=https://colab.research.google.com/notebooks/data_table.ipynb>data table notebook</a>'\n",
              "            + ' to learn more about interactive tables.';\n",
              "          element.innerHTML = '';\n",
              "          dataTable['output_type'] = 'display_data';\n",
              "          await google.colab.output.renderOutput(dataTable, element);\n",
              "          const docLink = document.createElement('div');\n",
              "          docLink.innerHTML = docLinkHtml;\n",
              "          element.appendChild(docLink);\n",
              "        }\n",
              "      </script>\n",
              "    </div>\n",
              "  </div>\n",
              "  "
            ]
          },
          "metadata": {},
          "execution_count": 37
        }
      ]
    },
    {
      "cell_type": "code",
      "source": [
        "per_producttype_scatterplot = sns.relplot(x=\"year\", y=\"destinated_area\", col=\"product_type\", col_wrap=3, row=\"city_code\" ,legend=False, data=historical_database, estimator=None)"
      ],
      "metadata": {
        "id": "tJFzzFmPPeoH",
        "outputId": "d165b427-2275-4b65-bc9f-d2e9d37bfe1c",
        "colab": {
          "base_uri": "https://localhost:8080/",
          "height": 389
        }
      },
      "execution_count": null,
      "outputs": [
        {
          "output_type": "display_data",
          "data": {
            "text/plain": [
              "<Figure size 1440x360 with 3 Axes>"
            ],
            "image/png": "[encoded data removed]"
          },
          "metadata": {
            "needs_background": "light"
          }
        }
      ]
    },
    {
      "cell_type": "code",
      "source": [
        "per_city_scatterplot = sns.relplot(x=\"year\", y=\"destinated_area\", col=\"city_code\",col_wrap=5 ,legend=False, data=historical_database, estimator=None)"
      ],
      "metadata": {
        "id": "NaaAULGZOsln"
      },
      "execution_count": null,
      "outputs": []
    }
  ]
}